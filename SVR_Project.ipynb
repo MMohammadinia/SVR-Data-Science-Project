{
  "nbformat": 4,
  "nbformat_minor": 0,
  "metadata": {
    "colab": {
      "provenance": [],
      "authorship_tag": "ABX9TyMMJ9PGoP6rHYnvDJdkiYtd"
    },
    "kernelspec": {
      "name": "python3",
      "display_name": "Python 3"
    },
    "language_info": {
      "name": "python"
    }
  },
  "cells": [
    {
      "cell_type": "code",
      "source": [
        "from sklearn.svm import SVR\n",
        "from sklearn.preprocessing import StandardScaler\n",
        "from sklearn.datasets import fetch_california_housing\n",
        "from sklearn.model_selection import train_test_split\n",
        "from sklearn.metrics import accuracy_score, f1_score, roc_auc_score, classification_report\n",
        "from sklearn.preprocessing import LabelBinarizer\n",
        "import matplotlib.pyplot as plt\n",
        "import numpy as np\n",
        "import pandas as pd\n"
      ],
      "metadata": {
        "id": "Ary9dB_wh0Yu"
      },
      "execution_count": null,
      "outputs": []
    },
    {
      "cell_type": "code",
      "source": [
        "from sklearn.datasets import fetch_california_housing\n",
        "\n",
        "# Load the California housing dataset\n",
        "california_data = fetch_california_housing()\n",
        "\n",
        "# Extract features and target variable\n",
        "features = california_data['data']\n",
        "prices = california_data['target']\n"
      ],
      "metadata": {
        "id": "lYmpZHeLh7Kg"
      },
      "execution_count": null,
      "outputs": []
    },
    {
      "cell_type": "code",
      "source": [
        "X_features = features\n",
        "y_labels = prices\n"
      ],
      "metadata": {
        "id": "CTcqW2lOiPOa"
      },
      "execution_count": null,
      "outputs": []
    },
    {
      "cell_type": "code",
      "source": [
        "X_train, X_test, y_train, y_test = train_test_split(X_features, y_labels, test_size=0.2, random_state=42)\n"
      ],
      "metadata": {
        "id": "lvLfhFUDiQGS"
      },
      "execution_count": null,
      "outputs": []
    },
    {
      "cell_type": "code",
      "source": [
        "from sklearn.preprocessing import StandardScaler\n",
        "\n",
        "# Create separate scalers for features and target\n",
        "feature_scaler = StandardScaler()\n",
        "target_scaler = StandardScaler()\n",
        "\n",
        "# Normalize training and test feature data\n",
        "X_train_scaled = feature_scaler.fit_transform(x_train)\n",
        "X_test_scaled = feature_scaler.transform(x_test)\n",
        "\n",
        "# Normalize training and test target data\n",
        "y_train_scaled = target_scaler.fit_transform(y_train.reshape(-1, 1))\n",
        "y_test_scaled = target_scaler.transform(y_test.reshape(-1, 1))\n"
      ],
      "metadata": {
        "id": "u2wQhutyifFx"
      },
      "execution_count": null,
      "outputs": []
    },
    {
      "cell_type": "code",
      "source": [
        "from sklearn.svm import SVR\n",
        "\n",
        "# Train the SVR model on the scaled training data\n",
        "svr_model = SVR()\n",
        "svr_model.fit(X_train_scaled, y_train_scaled.ravel())\n"
      ],
      "metadata": {
        "id": "YpUlSnqGipjE"
      },
      "execution_count": null,
      "outputs": []
    },
    {
      "cell_type": "code",
      "source": [
        "# Predict on the scaled test data using the trained SVR model\n",
        "y_pred_scaled = svr_model.predict(X_test_scaled)\n"
      ],
      "metadata": {
        "id": "KLXK-HRsiv-9"
      },
      "execution_count": null,
      "outputs": []
    },
    {
      "cell_type": "code",
      "source": [
        "# Reshape predictions to 2D array for inverse transformation\n",
        "y_pred_reshaped = y_pred_scaled.reshape(-1, 1)\n",
        "\n",
        "# Optional: inverse transform to get predictions in original scale\n",
        "y_pred_original = target_scaler.inverse_transform(y_pred_reshaped)\n"
      ],
      "metadata": {
        "id": "t61WMK8xi0_T"
      },
      "execution_count": null,
      "outputs": []
    },
    {
      "cell_type": "code",
      "source": [
        "import numpy as np\n",
        "import pandas as pd\n",
        "import matplotlib.pyplot as plt\n",
        "import seaborn as sns\n",
        "from sklearn.metrics import mean_squared_error, r2_score, mean_absolute_error\n",
        "import time\n",
        "\n",
        "# 1. RMSE (Root Mean Squared Error)\n",
        "def calculate_rmse(y_true, y_pred):\n",
        "    \"\"\"\n",
        "    Calculate Root Mean Squared Error.\n",
        "    \"\"\"\n",
        "    return np.sqrt(mean_squared_error(y_true, y_pred))\n",
        "\n",
        "\n",
        "# 2. Explained Variance Ratio (EVR)\n",
        "def explained_variance_ratio(X_original, X_reconstructed):\n",
        "    \"\"\"\n",
        "    Calculate the explained variance ratio.\n",
        "    Useful for dimensionality reduction tasks like PCA or Autoencoders.\n",
        "    \"\"\"\n",
        "    total_variance = np.var(X_original, axis=0).sum()\n",
        "    explained_variance = np.var(X_reconstructed, axis=0).sum()\n",
        "    return explained_variance / total_variance\n",
        "\n",
        "\n",
        "# 3. R² Score\n",
        "def calculate_r2(y_true, y_pred):\n",
        "    \"\"\"\n",
        "    Calculate R-squared (coefficient of determination).\n",
        "    \"\"\"\n",
        "    return r2_score(y_true, y_pred)\n",
        "\n",
        "\n",
        "# 4. MAE (Mean Absolute Error)\n",
        "def calculate_mae(y_true, y_pred):\n",
        "    \"\"\"\n",
        "    Calculate Mean Absolute Error.\n",
        "    \"\"\"\n",
        "    return mean_absolute_error(y_true, y_pred)\n",
        "\n",
        "\n",
        "# 5. Execution Time Measurement\n",
        "def measure_execution_time(func, *args, **kwargs):\n",
        "    \"\"\"\n",
        "    Measure the execution time of a function.\n",
        "\n",
        "    Parameters:\n",
        "        func : function to be measured\n",
        "        *args, **kwargs : arguments to pass to the function\n",
        "\n",
        "    Returns:\n",
        "        result : the output of the function\n",
        "        duration : execution time in seconds\n",
        "    \"\"\"\n",
        "    start_time = time.time()\n",
        "    result = func(*args, **kwargs)\n",
        "    end_time = time.time()\n",
        "    return result, end_time - start_time\n"
      ],
      "metadata": {
        "id": "6V5lTy9Fi7fo"
      },
      "execution_count": null,
      "outputs": []
    },
    {
      "cell_type": "code",
      "source": [
        "# ✅ Evaluate SVR predictions on normalized test data\n",
        "\n",
        "# Root Mean Squared Error\n",
        "rmse = calculate_rmse(Y_test_normalized, y_pred)\n",
        "\n",
        "# Mean Absolute Error\n",
        "mae = calculate_mae(Y_test_normalized, y_pred)\n",
        "\n",
        "# R-squared Score (Coefficient of Determination)\n",
        "r2 = calculate_r2(Y_test_normalized, y_pred)\n",
        "\n",
        "# Explained Variance Ratio\n",
        "evr = explained_variance_ratio(Y_test_normalized, y_pred)\n",
        "\n",
        "# Optional: Print results\n",
        "print(f\"RMSE: {rmse:.4f}\")\n",
        "print(f\"MAE: {mae:.4f}\")\n",
        "print(f\"R² Score: {r2:.4f}\")\n",
        "print(f\"Explained Variance Ratio: {evr:.4f}\")\n"
      ],
      "metadata": {
        "id": "DAQ_D1wdjPaZ"
      },
      "execution_count": null,
      "outputs": []
    },
    {
      "cell_type": "code",
      "source": [
        "# Show result\n",
        "print(\"\\n\" + \"=\" * 40)\n",
        "print(\"Evaluation Metrics for SVR\")\n",
        "print(\"=\" * 40)\n",
        "print(f\"{'Metric':<20} | {'SVR':<10}\")\n",
        "print(\"-\" * 40)\n",
        "print(f\"{'RMSE':<20} | {rmse:.4f}\")\n",
        "print(f\"{'EVR':<20} | {evr:.4f}\")\n",
        "print(f\"{'R² Score':<20} | {r2:.4f}\")\n",
        "print(f\"{'MAE':<20} | {mae:.4f}\")\n",
        "print(\"=\" * 40)"
      ],
      "metadata": {
        "id": "PWy1oiQVjWwa"
      },
      "execution_count": null,
      "outputs": []
    },
    {
      "cell_type": "code",
      "source": [
        "# Inverse transform predictions and true values to original scale\n",
        "y_test_original = target_scaler.inverse_transform(Y_test_normalized)\n",
        "y_pred_original = target_scaler.inverse_transform(y_pred)\n",
        "\n",
        "# Calculate metrics on original scale\n",
        "rmse_physical = np.sqrt(mean_squared_error(y_test_original, y_pred_original))\n",
        "mae_physical = mean_absolute_error(y_test_original, y_pred_original)\n",
        "r2_physical = r2_score(y_test_original, y_pred_original)\n",
        "\n",
        "print(f\"RMSE (Original Scale): {rmse_physical:.4f}\")\n",
        "print(f\"MAE (Original Scale): {mae_physical:.4f}\")\n",
        "print(f\"R² (Original Scale): {r2_physical:.4f}\")\n",
        "\n",
        "# Plot True vs Predicted (original scale)\n",
        "plt.figure(figsize=(8, 6))\n",
        "plt.scatter(y_test_original, y_pred_original, alpha=0.6, color='teal', edgecolors='k', s=50)\n",
        "plt.plot([y_test_original.min(), y_test_original.max()], [y_test_original.min(), y_test_original.max()],\n",
        "         'r--', lw=2, label='Ideal Fit')\n",
        "plt.xlabel('True Values')\n",
        "plt.ylabel('Predicted Values')\n",
        "plt.title('True vs Predicted Values (SVR)')\n",
        "plt.legend()\n",
        "plt.grid(True, alpha=0.3)\n",
        "plt.tight_layout()\n",
        "plt.show()\n",
        "\n",
        "# Residual plot (original scale)\n",
        "residuals = y_test_original - y_pred_original\n",
        "plt.figure(figsize=(8, 6))\n",
        "plt.scatter(y_pred_original, residuals, alpha=0.6, color='orange', edgecolors='k', s=50)\n",
        "plt.axhline(y=0, color='r', linestyle='--')\n",
        "plt.xlabel('Predicted Values')\n",
        "plt.ylabel('Residuals')\n",
        "plt.title('Residual Plot')\n",
        "plt.grid(True, alpha=0.3)\n",
        "plt.tight_layout()\n",
        "plt.show()\n"
      ],
      "metadata": {
        "id": "vl7xitO2jizv"
      },
      "execution_count": null,
      "outputs": []
    }
  ]
}